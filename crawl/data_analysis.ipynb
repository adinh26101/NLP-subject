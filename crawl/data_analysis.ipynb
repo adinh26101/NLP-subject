{
 "cells": [
  {
   "cell_type": "markdown",
   "metadata": {},
   "source": [
    "# Setup"
   ]
  },
  {
   "cell_type": "code",
   "execution_count": 1,
   "metadata": {},
   "outputs": [],
   "source": [
    "import os\n",
    "import glob\n",
    "import pandas as pd\n",
    "import re"
   ]
  },
  {
   "cell_type": "code",
   "execution_count": 2,
   "metadata": {},
   "outputs": [
    {
     "name": "stderr",
     "output_type": "stream",
     "text": [
      "/tmp/ipykernel_9229/515984087.py:2: FutureWarning: Passing a negative integer is deprecated in version 1.0 and will not be supported in future version. Instead, use None to not limit the column width.\n",
      "  pd.set_option('display.max_colwidth', -1)\n"
     ]
    }
   ],
   "source": [
    "pd.set_option('display.max_rows', None)\n",
    "pd.set_option('display.max_colwidth', -1)"
   ]
  },
  {
   "cell_type": "markdown",
   "metadata": {},
   "source": [
    "# Load Data"
   ]
  },
  {
   "cell_type": "code",
   "execution_count": 3,
   "metadata": {},
   "outputs": [],
   "source": [
    "path = os.getcwd() + \"/data\"\n",
    "csv_files = glob.glob(os.path.join(path, \"*.csv\"))"
   ]
  },
  {
   "cell_type": "code",
   "execution_count": 4,
   "metadata": {},
   "outputs": [],
   "source": [
    "df = pd.concat(map(pd.read_csv, csv_files))"
   ]
  },
  {
   "cell_type": "code",
   "execution_count": 5,
   "metadata": {},
   "outputs": [
    {
     "name": "stdout",
     "output_type": "stream",
     "text": [
      "<class 'pandas.core.frame.DataFrame'>\n",
      "Int64Index: 55524 entries, 0 to 249\n",
      "Data columns (total 3 columns):\n",
      " #   Column         Non-Null Count  Dtype \n",
      "---  ------         --------------  ----- \n",
      " 0   khach_cmt      41562 non-null  object\n",
      " 1   rating         55524 non-null  int64 \n",
      " 2   shop_phan_hoi  33478 non-null  object\n",
      "dtypes: int64(1), object(2)\n",
      "memory usage: 1.7+ MB\n"
     ]
    }
   ],
   "source": [
    "df = df[['khach_cmt', 'rating', 'shop_phan_hoi']]\n",
    "df = df[df['khach_cmt'].notnull() | df['shop_phan_hoi'].notnull()]\n",
    "df.info()"
   ]
  },
  {
   "cell_type": "markdown",
   "metadata": {},
   "source": [
    "# Cleaning Data"
   ]
  },
  {
   "cell_type": "markdown",
   "metadata": {},
   "source": [
    "standard data type"
   ]
  },
  {
   "cell_type": "code",
   "execution_count": 6,
   "metadata": {},
   "outputs": [],
   "source": [
    "df['khach_cmt'] = df['khach_cmt'].astype(str)\n",
    "df['shop_phan_hoi'] = df['shop_phan_hoi'].astype(str)"
   ]
  },
  {
   "cell_type": "markdown",
   "metadata": {},
   "source": [
    "lower case all data"
   ]
  },
  {
   "cell_type": "code",
   "execution_count": 7,
   "metadata": {},
   "outputs": [],
   "source": [
    "df['khach_cmt'] = df['khach_cmt'].str.lower()\n",
    "df['shop_phan_hoi'] = df['shop_phan_hoi'].str.lower()"
   ]
  },
  {
   "cell_type": "markdown",
   "metadata": {},
   "source": [
    "replace \\n to a space"
   ]
  },
  {
   "cell_type": "code",
   "execution_count": 8,
   "metadata": {},
   "outputs": [],
   "source": [
    "df['khach_cmt'] = df['khach_cmt'].str.replace(\"\\n\", \" \")\n",
    "df['shop_phan_hoi'] = df['shop_phan_hoi'].str.replace(\"\\n\", \" \")"
   ]
  },
  {
   "cell_type": "markdown",
   "metadata": {},
   "source": [
    "remove words more than 6 character"
   ]
  },
  {
   "cell_type": "code",
   "execution_count": 9,
   "metadata": {},
   "outputs": [],
   "source": [
    "def nonsense_word(words):\n",
    "    words = re.split('\\s|(?<!\\d)[,.](?!\\d)', words)\n",
    "    for word in words:\n",
    "        if len(word) >= 6:\n",
    "            return False\n",
    "    return True "
   ]
  },
  {
   "cell_type": "code",
   "execution_count": 10,
   "metadata": {},
   "outputs": [],
   "source": [
    "df = df[df.apply(lambda row: nonsense_word(row['khach_cmt']), axis=1)]"
   ]
  },
  {
   "cell_type": "markdown",
   "metadata": {},
   "source": [
    "remove duplicate character"
   ]
  },
  {
   "cell_type": "code",
   "execution_count": 11,
   "metadata": {},
   "outputs": [],
   "source": [
    "def remove_duplicate(input):\n",
    "    return re.sub(r\"([^0-9])\\1+\", r\"\\1\", input)"
   ]
  },
  {
   "cell_type": "code",
   "execution_count": 12,
   "metadata": {},
   "outputs": [],
   "source": [
    "df['khach_cmt'] = df.apply(lambda row: remove_duplicate(row['khach_cmt']), axis=1)\n",
    "df['shop_phan_hoi'] = df.apply(lambda row: remove_duplicate(row['shop_phan_hoi']), axis=1)"
   ]
  },
  {
   "cell_type": "markdown",
   "metadata": {},
   "source": [
    "# Main"
   ]
  },
  {
   "cell_type": "code",
   "execution_count": 253,
   "metadata": {},
   "outputs": [
    {
     "data": {
      "text/plain": [
       "25195    mình cao 1m68 nặng 58kg, bụng hơi mỡ, bản vai hơi to, lưng dài, mặc size l vừa in nhe, kiểu thoải mái chứ ko bị bó rít rịt á. có điều mình ko thích phần đáy cho lắm, nó ko khít với phần mông nên nếu che toàn bộ mông thì ko đẹp, mà để lưng lửng thì sẽ bị bó mông và nhìn mông bị độn, hơi chật bẹn.\n",
       "5799     nan                                                                                                                                                                                                                                                                                                     \n",
       "8450     nan                                                                                                                                                                                                                                                                                                     \n",
       "9804     áo mỏng tanh ,chất nóng ,giao hàng nhanh,chuẩn bị hàng nhanh.                                                                                                                                                                                                                                           \n",
       "4755     chất vải mát, mũ đẹp nhưng khi giặt phai màu, phù hợp với giá tiền.                                                                                                                                                                                                                                     \n",
       "Name: khach_cmt, dtype: object"
      ]
     },
     "execution_count": 253,
     "metadata": {},
     "output_type": "execute_result"
    }
   ],
   "source": [
    "df.sample(5)['khach_cmt']"
   ]
  }
 ],
 "metadata": {
  "interpreter": {
   "hash": "916dbcbb3f70747c44a77c7bcd40155683ae19c65e1c03b4aa3499c5328201f1"
  },
  "kernelspec": {
   "display_name": "Python 3.8.10 64-bit",
   "language": "python",
   "name": "python3"
  },
  "language_info": {
   "codemirror_mode": {
    "name": "ipython",
    "version": 3
   },
   "file_extension": ".py",
   "mimetype": "text/x-python",
   "name": "python",
   "nbconvert_exporter": "python",
   "pygments_lexer": "ipython3",
   "version": "3.8.10"
  },
  "orig_nbformat": 4
 },
 "nbformat": 4,
 "nbformat_minor": 2
}

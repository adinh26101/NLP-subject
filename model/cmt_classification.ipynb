{
  "cells": [
    {
      "cell_type": "markdown",
      "metadata": {
        "id": "JnoSHVP3eROG"
      },
      "source": [
        "# Set up"
      ]
    },
    {
      "cell_type": "code",
      "execution_count": 21,
      "metadata": {
        "id": "ci2j5OoOhjf1"
      },
      "outputs": [],
      "source": [
        "import pandas as pd\n",
        "import numpy as np\n",
        "import seaborn as sns\n",
        "import matplotlib.pyplot as plt\n",
        "\n",
        "from underthesea import word_tokenize\n",
        "from sklearn.metrics import accuracy_score, confusion_matrix\n",
        "from sklearn.model_selection import train_test_split\n",
        "\n",
        "from sklearn.neighbors import KNeighborsClassifier\n",
        "from sklearn.tree import DecisionTreeClassifier\n",
        "from sklearn.ensemble import RandomForestClassifier\n",
        "import pickle"
      ]
    },
    {
      "cell_type": "markdown",
      "metadata": {
        "id": "88dH-D9qeT1F"
      },
      "source": [
        "## Module"
      ]
    },
    {
      "cell_type": "code",
      "execution_count": 22,
      "metadata": {
        "id": "HxWcTer2hqDy"
      },
      "outputs": [],
      "source": [
        "def encoder(sentence):\n",
        "    words=word_tokenize(sentence)\n",
        "    onehot_vector=np.zeros(len(dictionary))\n",
        "    for w in words:\n",
        "        for i,word in enumerate(dictionary):\n",
        "            if word==w:\n",
        "                onehot_vector[i]+=1\n",
        "    return onehot_vector"
      ]
    },
    {
      "cell_type": "markdown",
      "metadata": {
        "id": "vGJ8SPFreY2T"
      },
      "source": [
        "## Load and analyze assets"
      ]
    },
    {
      "cell_type": "code",
      "execution_count": 23,
      "metadata": {
        "id": "zNX1obFpC_rr"
      },
      "outputs": [],
      "source": [
        "with open('dictionary.txt', 'r') as f:\n",
        "    dictionary = [line.rstrip('\\n') for line in f]"
      ]
    },
    {
      "cell_type": "code",
      "execution_count": 24,
      "metadata": {
        "id": "IeypY99qdu7L"
      },
      "outputs": [],
      "source": [
        "df = pd.read_csv('data.csv')"
      ]
    },
    {
      "cell_type": "code",
      "execution_count": 25,
      "metadata": {
        "colab": {
          "base_uri": "https://localhost:8080/"
        },
        "id": "o35U-wSahqTY",
        "outputId": "6b2a57af-102c-4d93-e91f-73542d9b4caf"
      },
      "outputs": [
        {
          "data": {
            "text/plain": [
              "False    19897\n",
              "dtype: int64"
            ]
          },
          "execution_count": 25,
          "metadata": {},
          "output_type": "execute_result"
        }
      ],
      "source": [
        "df['khach_cmt'] = df['khach_cmt'].astype(str)\n",
        "df['rating'] = df['rating'].astype(int)\n",
        "df.duplicated().value_counts()"
      ]
    },
    {
      "cell_type": "code",
      "execution_count": 26,
      "metadata": {},
      "outputs": [],
      "source": [
        "df = df[['khach_cmt', 'rating', 'shop',\t'dvvc',\t'sp']]"
      ]
    },
    {
      "cell_type": "code",
      "execution_count": 27,
      "metadata": {
        "colab": {
          "base_uri": "https://localhost:8080/"
        },
        "id": "BPfwt6hQesG1",
        "outputId": "414afdb3-1f1a-4818-ff1c-f0861751a144"
      },
      "outputs": [
        {
          "name": "stdout",
          "output_type": "stream",
          "text": [
            "<class 'pandas.core.frame.DataFrame'>\n",
            "RangeIndex: 19897 entries, 0 to 19896\n",
            "Data columns (total 5 columns):\n",
            " #   Column     Non-Null Count  Dtype \n",
            "---  ------     --------------  ----- \n",
            " 0   khach_cmt  19897 non-null  object\n",
            " 1   rating     19897 non-null  int64 \n",
            " 2   shop       19897 non-null  int64 \n",
            " 3   dvvc       19897 non-null  int64 \n",
            " 4   sp         19897 non-null  int64 \n",
            "dtypes: int64(4), object(1)\n",
            "memory usage: 777.4+ KB\n"
          ]
        }
      ],
      "source": [
        "df.info()"
      ]
    },
    {
      "cell_type": "markdown",
      "metadata": {
        "id": "l7p3M__8hYt7"
      },
      "source": [
        "# Prepare Data"
      ]
    },
    {
      "cell_type": "code",
      "execution_count": 28,
      "metadata": {
        "id": "M3Nq0JNbg2g0"
      },
      "outputs": [],
      "source": [
        "df[\"encode\"] = df.apply(lambda row: encoder(row['khach_cmt']), axis=1)"
      ]
    },
    {
      "cell_type": "code",
      "execution_count": 29,
      "metadata": {},
      "outputs": [
        {
          "data": {
            "text/plain": [
              "5    8267\n",
              "1    6630\n",
              "3    5000\n",
              "Name: rating, dtype: int64"
            ]
          },
          "execution_count": 29,
          "metadata": {},
          "output_type": "execute_result"
        }
      ],
      "source": [
        "df['rating'] = df['rating'].replace(4, 5)\n",
        "df['rating'] = df['rating'].replace(2, 1)\n",
        "df['rating'].value_counts()"
      ]
    },
    {
      "cell_type": "code",
      "execution_count": 30,
      "metadata": {},
      "outputs": [
        {
          "data": {
            "text/html": [
              "<div>\n",
              "<style scoped>\n",
              "    .dataframe tbody tr th:only-of-type {\n",
              "        vertical-align: middle;\n",
              "    }\n",
              "\n",
              "    .dataframe tbody tr th {\n",
              "        vertical-align: top;\n",
              "    }\n",
              "\n",
              "    .dataframe thead th {\n",
              "        text-align: right;\n",
              "    }\n",
              "</style>\n",
              "<table border=\"1\" class=\"dataframe\">\n",
              "  <thead>\n",
              "    <tr style=\"text-align: right;\">\n",
              "      <th></th>\n",
              "      <th>khach_cmt</th>\n",
              "      <th>rating</th>\n",
              "      <th>shop</th>\n",
              "      <th>dvvc</th>\n",
              "      <th>sp</th>\n",
              "      <th>encode</th>\n",
              "    </tr>\n",
              "  </thead>\n",
              "  <tbody>\n",
              "    <tr>\n",
              "      <th>0</th>\n",
              "      <td>lần trước đặt hai chiếc quần lại giao một chiế...</td>\n",
              "      <td>1</td>\n",
              "      <td>0</td>\n",
              "      <td>1</td>\n",
              "      <td>2</td>\n",
              "      <td>[0.0, 0.0, 0.0, 0.0, 0.0, 0.0, 0.0, 0.0, 0.0, ...</td>\n",
              "    </tr>\n",
              "    <tr>\n",
              "      <th>1</th>\n",
              "      <td>quần mới mặc 1 tiếng bị sức dây tia rồi , vải ...</td>\n",
              "      <td>1</td>\n",
              "      <td>0</td>\n",
              "      <td>0</td>\n",
              "      <td>2</td>\n",
              "      <td>[0.0, 0.0, 0.0, 0.0, 0.0, 0.0, 0.0, 0.0, 0.0, ...</td>\n",
              "    </tr>\n",
              "    <tr>\n",
              "      <th>2</th>\n",
              "      <td>quần ngủ nam mà lại 1 túi quần vải bóng màu tí...</td>\n",
              "      <td>1</td>\n",
              "      <td>1</td>\n",
              "      <td>0</td>\n",
              "      <td>2</td>\n",
              "      <td>[0.0, 0.0, 0.0, 0.0, 0.0, 0.0, 0.0, 0.0, 0.0, ...</td>\n",
              "    </tr>\n",
              "    <tr>\n",
              "      <th>3</th>\n",
              "      <td>vừa giặt đã bị xù. Quần dễ bám bụi chất vải kh...</td>\n",
              "      <td>1</td>\n",
              "      <td>0</td>\n",
              "      <td>0</td>\n",
              "      <td>2</td>\n",
              "      <td>[0.0, 0.0, 0.0, 0.0, 0.0, 0.0, 0.0, 0.0, 0.0, ...</td>\n",
              "    </tr>\n",
              "    <tr>\n",
              "      <th>4</th>\n",
              "      <td>chả hiểu quần áo có cái gì mà mang đi giặt xon...</td>\n",
              "      <td>1</td>\n",
              "      <td>0</td>\n",
              "      <td>0</td>\n",
              "      <td>2</td>\n",
              "      <td>[0.0, 0.0, 0.0, 0.0, 0.0, 0.0, 0.0, 0.0, 0.0, ...</td>\n",
              "    </tr>\n",
              "  </tbody>\n",
              "</table>\n",
              "</div>"
            ],
            "text/plain": [
              "                                           khach_cmt  rating  shop  dvvc  sp  \\\n",
              "0  lần trước đặt hai chiếc quần lại giao một chiế...       1     0     1   2   \n",
              "1  quần mới mặc 1 tiếng bị sức dây tia rồi , vải ...       1     0     0   2   \n",
              "2  quần ngủ nam mà lại 1 túi quần vải bóng màu tí...       1     1     0   2   \n",
              "3  vừa giặt đã bị xù. Quần dễ bám bụi chất vải kh...       1     0     0   2   \n",
              "4  chả hiểu quần áo có cái gì mà mang đi giặt xon...       1     0     0   2   \n",
              "\n",
              "                                              encode  \n",
              "0  [0.0, 0.0, 0.0, 0.0, 0.0, 0.0, 0.0, 0.0, 0.0, ...  \n",
              "1  [0.0, 0.0, 0.0, 0.0, 0.0, 0.0, 0.0, 0.0, 0.0, ...  \n",
              "2  [0.0, 0.0, 0.0, 0.0, 0.0, 0.0, 0.0, 0.0, 0.0, ...  \n",
              "3  [0.0, 0.0, 0.0, 0.0, 0.0, 0.0, 0.0, 0.0, 0.0, ...  \n",
              "4  [0.0, 0.0, 0.0, 0.0, 0.0, 0.0, 0.0, 0.0, 0.0, ...  "
            ]
          },
          "execution_count": 30,
          "metadata": {},
          "output_type": "execute_result"
        }
      ],
      "source": [
        "df.head()"
      ]
    },
    {
      "cell_type": "code",
      "execution_count": 31,
      "metadata": {
        "id": "tPRjM8bPhV3X"
      },
      "outputs": [],
      "source": [
        "X = np.array(df['encode'].to_list())\n",
        "y = np.array(df['rating'].to_list())"
      ]
    },
    {
      "cell_type": "code",
      "execution_count": 32,
      "metadata": {
        "id": "1LQjQ_c0j8TP"
      },
      "outputs": [],
      "source": [
        "X_train, X_test, y_train, y_test = train_test_split(X, y, test_size=0.2, random_state=0)"
      ]
    },
    {
      "cell_type": "code",
      "execution_count": 33,
      "metadata": {
        "colab": {
          "base_uri": "https://localhost:8080/"
        },
        "id": "jqTyOfKSkWxW",
        "outputId": "85192ab1-5973-49f1-c71d-6263eaa878af"
      },
      "outputs": [
        {
          "data": {
            "text/plain": [
              "((15917, 6158), (3980, 6158), (15917,), (3980,))"
            ]
          },
          "execution_count": 33,
          "metadata": {},
          "output_type": "execute_result"
        }
      ],
      "source": [
        "X_train.shape, X_test.shape, y_train.shape, y_test.shape"
      ]
    },
    {
      "cell_type": "markdown",
      "metadata": {
        "id": "cWqThu7dmEgU"
      },
      "source": [
        "# Model"
      ]
    },
    {
      "cell_type": "code",
      "execution_count": 34,
      "metadata": {
        "id": "on-NFaOrplRV"
      },
      "outputs": [],
      "source": [
        "def evaluation_model(model,X_train,X_test,y_train,y_test):\n",
        "  y_pred=model.predict(X_train)\n",
        "  print(\"accuracy score of train set: {:.2f}\".format(accuracy_score(y_train,y_pred)))\n",
        "  # plot\n",
        "  plt.figure(figsize=(8,6))\n",
        "  sns.heatmap(confusion_matrix(y_train,y_pred),cmap=\"YlGnBu\")\n",
        "  plt.show()\n",
        "\n",
        "  print(\"\\n===========================\\n\")\n",
        "\n",
        "  y_pred=model.predict(X_test)\n",
        "  print(\"accuracy score of test set: {:.2f}\".format(accuracy_score(y_test,y_pred)))\n",
        "  confusion_matrix(y_test,y_pred)\n",
        "  # plot\n",
        "  plt.figure(figsize=(8,6))\n",
        "  sns.heatmap(confusion_matrix(y_test,y_pred),cmap=\"YlGnBu\")\n",
        "  plt.show()"
      ]
    },
    {
      "cell_type": "markdown",
      "metadata": {
        "id": "ocZTtYcYmy1j"
      },
      "source": [
        "## KNeighborsClassifier"
      ]
    },
    {
      "cell_type": "code",
      "execution_count": 35,
      "metadata": {
        "colab": {
          "base_uri": "https://localhost:8080/"
        },
        "id": "aYjgnlW8nKIG",
        "outputId": "68f26235-9cec-4587-e8d3-2bd8b8b8dbc0"
      },
      "outputs": [],
      "source": [
        "# modelKNN = KNeighborsClassifier(n_neighbors=5)\n",
        "# modelKNN.fit(X_train,y_train)"
      ]
    },
    {
      "cell_type": "code",
      "execution_count": 36,
      "metadata": {
        "colab": {
          "base_uri": "https://localhost:8080/",
          "height": 822
        },
        "id": "1gpRm5yZnUu2",
        "outputId": "a8405369-5e25-4bd1-97bd-83a9bbfbebf9"
      },
      "outputs": [],
      "source": [
        "# evaluation_model(modelKNN,X_train,X_test,y_train,y_test)"
      ]
    },
    {
      "cell_type": "markdown",
      "metadata": {
        "id": "92nNSsudm20M"
      },
      "source": [
        "## DecisionTreeClassifier"
      ]
    },
    {
      "cell_type": "code",
      "execution_count": 37,
      "metadata": {
        "colab": {
          "base_uri": "https://localhost:8080/"
        },
        "id": "9_vSeW2YnKeh",
        "outputId": "2258ad00-534f-42d9-9ac5-db3ad9d4c6cc"
      },
      "outputs": [
        {
          "data": {
            "text/plain": [
              "DecisionTreeClassifier()"
            ]
          },
          "execution_count": 37,
          "metadata": {},
          "output_type": "execute_result"
        }
      ],
      "source": [
        "modelDT = DecisionTreeClassifier()\n",
        "modelDT.fit(X_train,y_train)"
      ]
    },
    {
      "cell_type": "code",
      "execution_count": 38,
      "metadata": {
        "colab": {
          "base_uri": "https://localhost:8080/",
          "height": 822
        },
        "id": "DX99Kpcftgyh",
        "outputId": "38796377-be3f-4eea-a36f-63c89e700e7d"
      },
      "outputs": [
        {
          "name": "stdout",
          "output_type": "stream",
          "text": [
            "accuracy score of train set: 0.98\n"
          ]
        },
        {
          "data": {
            "image/png": "[encoded data removed]",
            "text/plain": [
              "<Figure size 576x432 with 2 Axes>"
            ]
          },
          "metadata": {
            "needs_background": "light"
          },
          "output_type": "display_data"
        },
        {
          "name": "stdout",
          "output_type": "stream",
          "text": [
            "\n",
            "===========================\n",
            "\n",
            "accuracy score of test set: 0.67\n"
          ]
        },
        {
          "data": {
            "image/png": "[encoded data removed]",
            "text/plain": [
              "<Figure size 576x432 with 2 Axes>"
            ]
          },
          "metadata": {
            "needs_background": "light"
          },
          "output_type": "display_data"
        }
      ],
      "source": [
        "evaluation_model(modelDT,X_train,X_test,y_train,y_test)"
      ]
    },
    {
      "cell_type": "markdown",
      "metadata": {
        "id": "E-Hg60l8m22d"
      },
      "source": [
        "## RandomForestClassifier"
      ]
    },
    {
      "cell_type": "code",
      "execution_count": 39,
      "metadata": {
        "colab": {
          "base_uri": "https://localhost:8080/"
        },
        "id": "cyzyJ8mymMPw",
        "outputId": "3d5ea521-20bb-40d5-bad6-bc6912b5af3a"
      },
      "outputs": [],
      "source": [
        "# modelRF = RandomForestClassifier()\n",
        "# modelRF.fit(X_train,y_train)"
      ]
    },
    {
      "cell_type": "code",
      "execution_count": 40,
      "metadata": {
        "colab": {
          "base_uri": "https://localhost:8080/",
          "height": 822
        },
        "id": "J3yhQ0dAmDpa",
        "outputId": "601a4b67-6208-48e8-cdd5-357d4864fb71"
      },
      "outputs": [],
      "source": [
        "# evaluation_model(modelRF,X_train,X_test,y_train,y_test)"
      ]
    },
    {
      "cell_type": "markdown",
      "metadata": {
        "id": "zgQHwWGetz-r"
      },
      "source": [
        "## Deep Neural Network"
      ]
    },
    {
      "cell_type": "markdown",
      "metadata": {
        "id": "T6G9ykyBvyyw"
      },
      "source": [
        "*Small dataset, Free server with weak configuration --> inefficient*"
      ]
    },
    {
      "cell_type": "markdown",
      "metadata": {
        "id": "yEFv2ykTwTP9"
      },
      "source": [
        "# Conclusion"
      ]
    },
    {
      "cell_type": "code",
      "execution_count": 41,
      "metadata": {
        "id": "Nj59FWBRvYLe"
      },
      "outputs": [],
      "source": [
        "def doan_xem(model,comment):\n",
        "  return model.predict(encoder(comment).reshape(1,-1))"
      ]
    },
    {
      "cell_type": "markdown",
      "metadata": {
        "id": "UDIhjh3hw_M2"
      },
      "source": [
        "\n",
        "1.   modelKNN\n",
        "2.   modelDT\n",
        "3.   modelRF\n",
        "\n"
      ]
    },
    {
      "cell_type": "code",
      "execution_count": 42,
      "metadata": {
        "colab": {
          "base_uri": "https://localhost:8080/"
        },
        "id": "t1BzApAIxNqp",
        "outputId": "80269569-8fde-4844-bd14-57310d37c7da"
      },
      "outputs": [],
      "source": [
        "# cmt = 'lần trước đặt hai chiếc quần lại giao một chiếc, buồn và chán shop, shipper thái độ với khách hàng nữa chứ'\n",
        "# print('rating: {}'.format(doan_xem(modelKNN,cmt)[0]))\n",
        "# print('rating: {}'.format(doan_xem(modelRF,cmt)[0]))\n",
        "# print('rating: {}'.format(doan_xem(modelDT,cmt)[0]))"
      ]
    },
    {
      "cell_type": "code",
      "execution_count": 43,
      "metadata": {
        "id": "4g_NxTxrytnE"
      },
      "outputs": [],
      "source": [
        "# pickle.dump(modelKNN, open('knn.txt', 'wb'))  "
      ]
    },
    {
      "cell_type": "code",
      "execution_count": 44,
      "metadata": {
        "id": "edRcKLZFypEv"
      },
      "outputs": [],
      "source": [
        "pickle.dump(modelDT, open('dt_rt.txt', 'wb'))  "
      ]
    },
    {
      "cell_type": "code",
      "execution_count": 45,
      "metadata": {
        "id": "MzWcIbmKz4RE"
      },
      "outputs": [],
      "source": [
        "# pickle.dump(modelRF, open('rf_rt.txt', 'wb'))  "
      ]
    }
  ],
  "metadata": {
    "colab": {
      "collapsed_sections": [],
      "name": "cmt_classification.ipynb",
      "provenance": []
    },
    "interpreter": {
      "hash": "916dbcbb3f70747c44a77c7bcd40155683ae19c65e1c03b4aa3499c5328201f1"
    },
    "kernelspec": {
      "display_name": "Python 3.10.4 64-bit",
      "language": "python",
      "name": "python3"
    },
    "language_info": {
      "codemirror_mode": {
        "name": "ipython",
        "version": 3
      },
      "file_extension": ".py",
      "mimetype": "text/x-python",
      "name": "python",
      "nbconvert_exporter": "python",
      "pygments_lexer": "ipython3",
      "version": "3.10.4"
    }
  },
  "nbformat": 4,
  "nbformat_minor": 0
}

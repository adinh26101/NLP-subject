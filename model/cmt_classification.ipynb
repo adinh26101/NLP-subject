{
  "nbformat": 4,
  "nbformat_minor": 0,
  "metadata": {
    "colab": {
      "name": "cmt_classification.ipynb",
      "provenance": [],
      "collapsed_sections": []
    },
    "kernelspec": {
      "name": "python3",
      "display_name": "Python 3"
    },
    "language_info": {
      "name": "python"
    }
  },
  "cells": [
    {
      "cell_type": "markdown",
      "source": [
        "# Set up"
      ],
      "metadata": {
        "id": "JnoSHVP3eROG"
      }
    },
    {
      "cell_type": "code",
      "source": [
        "# !pip install underthesea"
      ],
      "metadata": {
        "id": "E-n9ZEnRg-nt"
      },
      "execution_count": null,
      "outputs": []
    },
    {
      "cell_type": "code",
      "execution_count": null,
      "metadata": {
        "id": "ci2j5OoOhjf1"
      },
      "outputs": [],
      "source": [
        "import pandas as pd\n",
        "import numpy as np\n",
        "import seaborn as sns\n",
        "import matplotlib.pyplot as plt\n",
        "\n",
        "from underthesea import word_tokenize\n",
        "from sklearn.metrics import accuracy_score, confusion_matrix\n",
        "from sklearn.model_selection import train_test_split\n",
        "\n",
        "from sklearn.neighbors import KNeighborsClassifier\n",
        "from sklearn.tree import DecisionTreeClassifier\n",
        "from sklearn.ensemble import RandomForestClassifier\n",
        "import pickle"
      ]
    },
    {
      "cell_type": "markdown",
      "source": [
        "## Module"
      ],
      "metadata": {
        "id": "88dH-D9qeT1F"
      }
    },
    {
      "cell_type": "code",
      "source": [
        "def encoder(sentence):\n",
        "    words=word_tokenize(sentence)\n",
        "    onehot_vector=np.zeros(len(dictionary))\n",
        "    for w in words:\n",
        "        for i,word in enumerate(dictionary):\n",
        "            if word==w:\n",
        "                onehot_vector[i]+=1\n",
        "    return onehot_vector"
      ],
      "metadata": {
        "id": "HxWcTer2hqDy"
      },
      "execution_count": null,
      "outputs": []
    },
    {
      "cell_type": "markdown",
      "source": [
        "## Load and analyze assets"
      ],
      "metadata": {
        "id": "vGJ8SPFreY2T"
      }
    },
    {
      "cell_type": "code",
      "source": [
        "with open('dictionary.txt', 'r') as f:\n",
        "    dictionary = [line.rstrip('\\n') for line in f]"
      ],
      "metadata": {
        "id": "zNX1obFpC_rr"
      },
      "execution_count": null,
      "outputs": []
    },
    {
      "cell_type": "code",
      "source": [
        "df = pd.read_csv('data_7848.csv')"
      ],
      "metadata": {
        "id": "IeypY99qdu7L"
      },
      "execution_count": null,
      "outputs": []
    },
    {
      "cell_type": "code",
      "source": [
        "df['khach_cmt'] = df['khach_cmt'].astype(str)\n",
        "df['rating'] = df['rating'].astype(int)\n",
        "df.duplicated().value_counts()"
      ],
      "metadata": {
        "colab": {
          "base_uri": "https://localhost:8080/"
        },
        "id": "o35U-wSahqTY",
        "outputId": "6b2a57af-102c-4d93-e91f-73542d9b4caf"
      },
      "execution_count": null,
      "outputs": [
        {
          "output_type": "execute_result",
          "data": {
            "text/plain": [
              "False    7848\n",
              "dtype: int64"
            ]
          },
          "metadata": {},
          "execution_count": 8
        }
      ]
    },
    {
      "cell_type": "code",
      "source": [
        "df.info()"
      ],
      "metadata": {
        "colab": {
          "base_uri": "https://localhost:8080/"
        },
        "id": "BPfwt6hQesG1",
        "outputId": "414afdb3-1f1a-4818-ff1c-f0861751a144"
      },
      "execution_count": null,
      "outputs": [
        {
          "output_type": "stream",
          "name": "stdout",
          "text": [
            "<class 'pandas.core.frame.DataFrame'>\n",
            "RangeIndex: 7848 entries, 0 to 7847\n",
            "Data columns (total 2 columns):\n",
            " #   Column     Non-Null Count  Dtype \n",
            "---  ------     --------------  ----- \n",
            " 0   khach_cmt  7848 non-null   object\n",
            " 1   rating     7848 non-null   int64 \n",
            "dtypes: int64(1), object(1)\n",
            "memory usage: 122.8+ KB\n"
          ]
        }
      ]
    },
    {
      "cell_type": "code",
      "source": [
        "df['rating'].value_counts()"
      ],
      "metadata": {
        "colab": {
          "base_uri": "https://localhost:8080/"
        },
        "id": "nRUrB7N_euho",
        "outputId": "b83a2e2b-5472-433f-ae8f-69d5b1f7538e"
      },
      "execution_count": null,
      "outputs": [
        {
          "output_type": "execute_result",
          "data": {
            "text/plain": [
              "1    1570\n",
              "2    1570\n",
              "5    1570\n",
              "3    1569\n",
              "4    1569\n",
              "Name: rating, dtype: int64"
            ]
          },
          "metadata": {},
          "execution_count": 10
        }
      ]
    },
    {
      "cell_type": "code",
      "source": [
        "df.columns"
      ],
      "metadata": {
        "colab": {
          "base_uri": "https://localhost:8080/"
        },
        "id": "BzOVyWYnhgmG",
        "outputId": "fbacd25e-9e98-4640-c30b-0f070b299a96"
      },
      "execution_count": null,
      "outputs": [
        {
          "output_type": "execute_result",
          "data": {
            "text/plain": [
              "Index(['khach_cmt', 'rating'], dtype='object')"
            ]
          },
          "metadata": {},
          "execution_count": 11
        }
      ]
    },
    {
      "cell_type": "markdown",
      "source": [
        "# Prepare Data"
      ],
      "metadata": {
        "id": "l7p3M__8hYt7"
      }
    },
    {
      "cell_type": "code",
      "source": [
        "df[\"encode\"] = df.apply(lambda row: encoder(row['khach_cmt']), axis=1)"
      ],
      "metadata": {
        "id": "M3Nq0JNbg2g0"
      },
      "execution_count": null,
      "outputs": []
    },
    {
      "cell_type": "code",
      "source": [
        "X = np.array(df['encode'].to_list())\n",
        "y = np.array(df['rating'].to_list())\n",
        "del(df)"
      ],
      "metadata": {
        "id": "tPRjM8bPhV3X"
      },
      "execution_count": null,
      "outputs": []
    },
    {
      "cell_type": "code",
      "source": [
        "X_train, X_test, y_train, y_test = train_test_split(X, y, test_size=0.2, random_state=0)"
      ],
      "metadata": {
        "id": "1LQjQ_c0j8TP"
      },
      "execution_count": null,
      "outputs": []
    },
    {
      "cell_type": "code",
      "source": [
        "X_train.shape, X_test.shape, y_train.shape, y_test.shape"
      ],
      "metadata": {
        "colab": {
          "base_uri": "https://localhost:8080/"
        },
        "id": "jqTyOfKSkWxW",
        "outputId": "85192ab1-5973-49f1-c71d-6263eaa878af"
      },
      "execution_count": null,
      "outputs": [
        {
          "output_type": "execute_result",
          "data": {
            "text/plain": [
              "((6278, 4113), (1570, 4113), (6278,), (1570,))"
            ]
          },
          "metadata": {},
          "execution_count": 15
        }
      ]
    },
    {
      "cell_type": "markdown",
      "source": [
        "# Model"
      ],
      "metadata": {
        "id": "cWqThu7dmEgU"
      }
    },
    {
      "cell_type": "code",
      "source": [
        "def evaluation_model(model,X_train,X_test,y_train,y_test):\n",
        "  y_pred=model.predict(X_train)\n",
        "  print(\"accuracy score of train set: {:.2f}\".format(accuracy_score(y_train,y_pred)))\n",
        "  # plot\n",
        "  plt.figure(figsize=(8,6))\n",
        "  sns.heatmap(confusion_matrix(y_train,y_pred),cmap=\"YlGnBu\")\n",
        "  plt.show()\n",
        "\n",
        "  print(\"\\n===========================\\n\")\n",
        "\n",
        "  y_pred=model.predict(X_test)\n",
        "  print(\"accuracy score of test set: {:.2f}\".format(accuracy_score(y_test,y_pred)))\n",
        "  confusion_matrix(y_test,y_pred)\n",
        "  # plot\n",
        "  plt.figure(figsize=(8,6))\n",
        "  sns.heatmap(confusion_matrix(y_test,y_pred),cmap=\"YlGnBu\")\n",
        "  plt.show()"
      ],
      "metadata": {
        "id": "on-NFaOrplRV"
      },
      "execution_count": null,
      "outputs": []
    },
    {
      "cell_type": "markdown",
      "source": [
        "## KNeighborsClassifier"
      ],
      "metadata": {
        "id": "ocZTtYcYmy1j"
      }
    },
    {
      "cell_type": "code",
      "source": [
        "modelKNN = KNeighborsClassifier(n_neighbors=5)\n",
        "modelKNN.fit(X_train,y_train)"
      ],
      "metadata": {
        "colab": {
          "base_uri": "https://localhost:8080/"
        },
        "id": "aYjgnlW8nKIG",
        "outputId": "68f26235-9cec-4587-e8d3-2bd8b8b8dbc0"
      },
      "execution_count": null,
      "outputs": [
        {
          "output_type": "execute_result",
          "data": {
            "text/plain": [
              "KNeighborsClassifier()"
            ]
          },
          "metadata": {},
          "execution_count": 17
        }
      ]
    },
    {
      "cell_type": "code",
      "source": [
        "evaluation_model(modelKNN,X_train,X_test,y_train,y_test)"
      ],
      "metadata": {
        "colab": {
          "base_uri": "https://localhost:8080/",
          "height": 822
        },
        "id": "1gpRm5yZnUu2",
        "outputId": "a8405369-5e25-4bd1-97bd-83a9bbfbebf9"
      },
      "execution_count": null,
      "outputs": [
        {
          "output_type": "stream",
          "name": "stdout",
          "text": [
            "accuracy score of train set: 0.60\n"
          ]
        },
        {
          "output_type": "display_data",
          "data": {
            "text/plain": [
              "<Figure size 576x432 with 2 Axes>"
            ],
            "image/png": "[encoded data removed]"
          },
          "metadata": {
            "needs_background": "light"
          }
        },
        {
          "output_type": "stream",
          "name": "stdout",
          "text": [
            "\n",
            "===========================\n",
            "\n",
            "accuracy score of test set: 0.39\n"
          ]
        },
        {
          "output_type": "display_data",
          "data": {
            "text/plain": [
              "<Figure size 576x432 with 2 Axes>"
            ],
            "image/png": "[encoded data removed]"
          },
          "metadata": {
            "needs_background": "light"
          }
        }
      ]
    },
    {
      "cell_type": "markdown",
      "source": [
        "## DecisionTreeClassifier"
      ],
      "metadata": {
        "id": "92nNSsudm20M"
      }
    },
    {
      "cell_type": "code",
      "source": [
        "modelDT = DecisionTreeClassifier()\n",
        "modelDT.fit(X_train,y_train)"
      ],
      "metadata": {
        "colab": {
          "base_uri": "https://localhost:8080/"
        },
        "id": "9_vSeW2YnKeh",
        "outputId": "2258ad00-534f-42d9-9ac5-db3ad9d4c6cc"
      },
      "execution_count": null,
      "outputs": [
        {
          "output_type": "execute_result",
          "data": {
            "text/plain": [
              "DecisionTreeClassifier()"
            ]
          },
          "metadata": {},
          "execution_count": 30
        }
      ]
    },
    {
      "cell_type": "code",
      "source": [
        "evaluation_model(modelDT,X_train,X_test,y_train,y_test)"
      ],
      "metadata": {
        "colab": {
          "base_uri": "https://localhost:8080/",
          "height": 822
        },
        "id": "DX99Kpcftgyh",
        "outputId": "38796377-be3f-4eea-a36f-63c89e700e7d"
      },
      "execution_count": null,
      "outputs": [
        {
          "output_type": "stream",
          "name": "stdout",
          "text": [
            "accuracy score of train set: 0.98\n"
          ]
        },
        {
          "output_type": "display_data",
          "data": {
            "text/plain": [
              "<Figure size 576x432 with 2 Axes>"
            ],
            "image/png": "[encoded data removed]"
          },
          "metadata": {
            "needs_background": "light"
          }
        },
        {
          "output_type": "stream",
          "name": "stdout",
          "text": [
            "\n",
            "===========================\n",
            "\n",
            "accuracy score of test set: 0.41\n"
          ]
        },
        {
          "output_type": "display_data",
          "data": {
            "text/plain": [
              "<Figure size 576x432 with 2 Axes>"
            ],
            "image/png": "[encoded data removed]"
          },
          "metadata": {
            "needs_background": "light"
          }
        }
      ]
    },
    {
      "cell_type": "markdown",
      "source": [
        "## RandomForestClassifier"
      ],
      "metadata": {
        "id": "E-Hg60l8m22d"
      }
    },
    {
      "cell_type": "code",
      "source": [
        "modelRF = RandomForestClassifier()\n",
        "modelRF.fit(X_train,y_train)"
      ],
      "metadata": {
        "colab": {
          "base_uri": "https://localhost:8080/"
        },
        "id": "cyzyJ8mymMPw",
        "outputId": "3d5ea521-20bb-40d5-bad6-bc6912b5af3a"
      },
      "execution_count": null,
      "outputs": [
        {
          "output_type": "execute_result",
          "data": {
            "text/plain": [
              "RandomForestClassifier()"
            ]
          },
          "metadata": {},
          "execution_count": 32
        }
      ]
    },
    {
      "cell_type": "code",
      "source": [
        "evaluation_model(modelRF,X_train,X_test,y_train,y_test)"
      ],
      "metadata": {
        "colab": {
          "base_uri": "https://localhost:8080/",
          "height": 822
        },
        "id": "J3yhQ0dAmDpa",
        "outputId": "601a4b67-6208-48e8-cdd5-357d4864fb71"
      },
      "execution_count": null,
      "outputs": [
        {
          "output_type": "stream",
          "name": "stdout",
          "text": [
            "accuracy score of train set: 0.98\n"
          ]
        },
        {
          "output_type": "display_data",
          "data": {
            "text/plain": [
              "<Figure size 576x432 with 2 Axes>"
            ],
            "image/png": "[encoded data removed]"
          },
          "metadata": {
            "needs_background": "light"
          }
        },
        {
          "output_type": "stream",
          "name": "stdout",
          "text": [
            "\n",
            "===========================\n",
            "\n",
            "accuracy score of test set: 0.51\n"
          ]
        },
        {
          "output_type": "display_data",
          "data": {
            "text/plain": [
              "<Figure size 576x432 with 2 Axes>"
            ],
            "image/png": "[encoded data removed]"
          },
          "metadata": {
            "needs_background": "light"
          }
        }
      ]
    },
    {
      "cell_type": "markdown",
      "source": [
        "## Deep Neural Network"
      ],
      "metadata": {
        "id": "zgQHwWGetz-r"
      }
    },
    {
      "cell_type": "markdown",
      "source": [
        "*Small dataset, Free server with weak configuration --> inefficient*"
      ],
      "metadata": {
        "id": "T6G9ykyBvyyw"
      }
    },
    {
      "cell_type": "markdown",
      "source": [
        "# Conclusion"
      ],
      "metadata": {
        "id": "yEFv2ykTwTP9"
      }
    },
    {
      "cell_type": "code",
      "source": [
        "def doan_xem(model,comment):\n",
        "  return model.predict(encoder(comment).reshape(1,-1))"
      ],
      "metadata": {
        "id": "Nj59FWBRvYLe"
      },
      "execution_count": null,
      "outputs": []
    },
    {
      "cell_type": "markdown",
      "source": [
        "\n",
        "1.   modelKNN\n",
        "2.   modelDT\n",
        "3.   modelRF\n",
        "\n"
      ],
      "metadata": {
        "id": "UDIhjh3hw_M2"
      }
    },
    {
      "cell_type": "code",
      "source": [
        "cmt = 'đồ đẹp'\n",
        "print('rating: {}'.format(doan_xem(modelKNN,cmt)[0]))"
      ],
      "metadata": {
        "colab": {
          "base_uri": "https://localhost:8080/"
        },
        "id": "t1BzApAIxNqp",
        "outputId": "80269569-8fde-4844-bd14-57310d37c7da"
      },
      "execution_count": null,
      "outputs": [
        {
          "output_type": "stream",
          "name": "stdout",
          "text": [
            "rating: 5\n"
          ]
        }
      ]
    },
    {
      "cell_type": "code",
      "source": [
        "pickle.dump(modelKNN, open('knn.txt', 'wb'))  "
      ],
      "metadata": {
        "id": "4g_NxTxrytnE"
      },
      "execution_count": null,
      "outputs": []
    },
    {
      "cell_type": "code",
      "source": [
        "pickle.dump(modelDT, open('dt.txt', 'wb'))  "
      ],
      "metadata": {
        "id": "edRcKLZFypEv"
      },
      "execution_count": null,
      "outputs": []
    },
    {
      "cell_type": "code",
      "source": [
        "pickle.dump(modelRF, open('rf.txt', 'wb'))  "
      ],
      "metadata": {
        "id": "MzWcIbmKz4RE"
      },
      "execution_count": null,
      "outputs": []
    }
  ]
}